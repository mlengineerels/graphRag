{
 "cells": [
  {
   "cell_type": "code",
   "execution_count": 1,
   "id": "b3e4018e",
   "metadata": {},
   "outputs": [],
   "source": [
    "user_query = \"I have a blue shirt. What can I pair with it?\"\n"
   ]
  },
  {
   "cell_type": "code",
   "execution_count": null,
   "id": "a874ee3f",
   "metadata": {},
   "outputs": [],
   "source": []
  }
 ],
 "metadata": {
  "kernelspec": {
   "display_name": "Python 3 (ipykernel)",
   "language": "python",
   "name": "python3"
  },
  "language_info": {
   "codemirror_mode": {
    "name": "ipython",
    "version": 3
   },
   "file_extension": ".py",
   "mimetype": "text/x-python",
   "name": "python",
   "nbconvert_exporter": "python",
   "pygments_lexer": "ipython3",
   "version": "3.9.13"
  }
 },
 "nbformat": 4,
 "nbformat_minor": 5
}
