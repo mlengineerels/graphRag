{
 "cells": [
  {
   "cell_type": "markdown",
   "id": "386e6a4c",
   "metadata": {},
   "source": [
    "### IMPORTS AND CONN ESTABLISHMENT"
   ]
  },
  {
   "cell_type": "code",
   "execution_count": 20,
   "id": "11279a00",
   "metadata": {},
   "outputs": [],
   "source": [
    "import os\n",
    "import csv\n",
    "import pandas as pd\n",
    "from openai import OpenAI\n",
    "from neo4j import GraphDatabase\n",
    "# import genai\n",
    "from dotenv import load_dotenv\n",
    "load_dotenv()\n",
    "import tiktoken\n",
    "import yaml\n",
    "# from utils.embeddings_utils import get_embedding"
   ]
  },
  {
   "cell_type": "code",
   "execution_count": 2,
   "id": "67b2d008",
   "metadata": {},
   "outputs": [],
   "source": [
    "class Neo4jConnection:\n",
    "    def __init__(self, uri, user, pwd):\n",
    "        self.__uri = uri\n",
    "        self.__user = user\n",
    "        self.__pwd = pwd\n",
    "        self.__driver = None\n",
    "        try:\n",
    "            self.__driver = GraphDatabase.driver(self.__uri, auth=(self.__user, self.__pwd))\n",
    "        except Exception as e:\n",
    "            print(\"Failed to create the driver:\", e)\n",
    "    def close(self):\n",
    "        if self.__driver is not None:\n",
    "            self.__driver.close()\n",
    "    def query(self, query, parameters=None, db=None):\n",
    "        assert self.__driver is not None, \"Driver not initialized!\"\n",
    "        session = None\n",
    "        response = None\n",
    "        try: \n",
    "            session = self.__driver.session(database=db) if db is not None else self.__driver.session() \n",
    "            response = list(session.run(query, parameters))\n",
    "        except Exception as e:\n",
    "            print(\"Query failed:\", e)\n",
    "        finally: \n",
    "            if session is not None:\n",
    "                session.close()\n",
    "        return response"
   ]
  },
  {
   "cell_type": "code",
   "execution_count": 3,
   "id": "32ff9791",
   "metadata": {},
   "outputs": [],
   "source": [
    "with open(\"../config.yaml\", \"r\") as file:\n",
    "    config = yaml.safe_load(file)\n",
    "\n",
    "# Accessing keys and credentials\n",
    "openai_api_key = config[\"openai\"][\"api_key\"]\n",
    "neo4j_uri = config[\"neo4j\"][\"uri\"]\n",
    "neo4j_user = config[\"neo4j\"][\"user\"]\n",
    "neo4j_password = config[\"neo4j\"][\"password\"]\n"
   ]
  },
  {
   "cell_type": "code",
   "execution_count": 4,
   "id": "07f6e787",
   "metadata": {},
   "outputs": [
    {
     "data": {
      "text/html": [
       "<table><tr><th>count(n)</th></tr><tr><td style=\"text-align:right\">46206</td></tr></table>"
      ],
      "text/plain": [
       " count(n) \n",
       "----------\n",
       "    46206 "
      ]
     },
     "execution_count": 4,
     "metadata": {},
     "output_type": "execute_result"
    }
   ],
   "source": [
    "## Connection Strings\n",
    "conn = Neo4jConnection(uri=neo4j_uri, user=neo4j_user, pwd=neo4j_password)\n",
    "from py2neo import Graph, Node, Relationship, NodeMatcher\n",
    "conn.query(\"MATCH (n) RETURN COUNT(n)\")\n",
    "\n",
    "# Establish connection\n",
    "graph = Graph(neo4j_uri, auth=(neo4j_user, neo4j_password))\n",
    "\n",
    "### Checking the connection by looking over the data in the Database\n",
    "graph.run(\"MATCH (n) return count(n)\")"
   ]
  },
  {
   "cell_type": "markdown",
   "id": "4c422e33",
   "metadata": {},
   "source": [
    "### CREATING EMBEDDINGS"
   ]
  },
  {
   "cell_type": "code",
   "execution_count": 9,
   "id": "9b7f00ac",
   "metadata": {},
   "outputs": [],
   "source": [
    "embedding_model = \"text-embedding-3-small\"\n",
    "embedding_encoding = \"cl100k_base\"\n",
    "max_tokens = 8000 "
   ]
  },
  {
   "cell_type": "code",
   "execution_count": 10,
   "id": "e5c2d68f",
   "metadata": {},
   "outputs": [],
   "source": [
    "def get_plots(limit=None):\n",
    "    driver = GraphDatabase.driver('bolt://localhost:7687',auth=(\"neo4j\",pwd))\n",
    "    driver.verify_connectivity()\n",
    "    query = \"\"\"MATCH (m:ARTICLE) WHERE m.detail_desc IS NOT NULL\n",
    "    RETURN m.article_id AS id,m.title as title, m.product_group_name AS product_group_name, m.product_type_name as product_type_name, m.detail_desc as detail_desc \"\"\"\n",
    "    movies, summary, keys = driver.execute_query(\n",
    "        query\n",
    "    )\n",
    "    driver.close()\n",
    "    return movies"
   ]
  },
  {
   "cell_type": "code",
   "execution_count": 17,
   "id": "c3a9a63b",
   "metadata": {},
   "outputs": [],
   "source": [
    "def generate_embeddings(file_name, limit=None):\n",
    "    csvfile_out = open(file_name, 'w', encoding='utf8', newline='')\n",
    "    fieldnames = ['title','embedding']\n",
    "    output_plot = csv.DictWriter(csvfile_out, fieldnames=fieldnames)\n",
    "    output_plot.writeheader()\n",
    "    movies = get_plots(limit=limit)\n",
    "#     print(len(movies))\n",
    "    llm = OpenAI(api_key=openai_api_key)\n",
    "    for movie in movies:\n",
    "#         print(movie['title'])\n",
    "        desc = f\"{movie['detail_desc']}\"\n",
    "        response = llm.embeddings.create(\n",
    "            input=desc,\n",
    "            model='text-embedding-ada-002')\n",
    "        output_plot.writerow({\n",
    "            'title': movie['title'],\n",
    "            'embedding': response.data[0].embedding\n",
    "        })\n",
    "\n",
    "    csvfile_out.close()\n",
    "generate_embeddings('detail-plot-embeddings.csv')"
   ]
  },
  {
   "cell_type": "code",
   "execution_count": null,
   "id": "a7ed8963",
   "metadata": {},
   "outputs": [],
   "source": [
    "df = pd.read_csv(\"detail-plot-embeddings.csv\")"
   ]
  },
  {
   "cell_type": "markdown",
   "id": "2caacd0a",
   "metadata": {},
   "source": [
    "#### Adding embeddings back to DataBase"
   ]
  },
  {
   "cell_type": "code",
   "execution_count": 36,
   "id": "9b861045",
   "metadata": {},
   "outputs": [],
   "source": [
    "for index, row in df.iterrows():\n",
    "    if row['embedding'] is not None:\n",
    "        graph.run(\"\"\"\n",
    "        MATCH (a:ARTICLE {title: $title})\n",
    "        SET a.embedding = apoc.convert.fromJsonList($embedding)\n",
    "        \"\"\", title=row['title'], embedding=row['embedding'])"
   ]
  },
  {
   "cell_type": "code",
   "execution_count": 56,
   "id": "863530a9",
   "metadata": {},
   "outputs": [],
   "source": [
    "# query = \"\"\"MATCH (n:ARTICLE)\n",
    "# RETURN n.article_id AS ArticleID, apoc.meta.type(n.article_id) AS Type\n",
    "# LIMIT 10;\"\"\"\n",
    "\n",
    "# conn.query(query)"
   ]
  },
  {
   "cell_type": "code",
   "execution_count": null,
   "id": "3bfa672e",
   "metadata": {},
   "outputs": [],
   "source": []
  },
  {
   "cell_type": "code",
   "execution_count": 47,
   "id": "bc890aa9",
   "metadata": {},
   "outputs": [],
   "source": [
    "# result = graph.run(\"MATCH (a:ARTICLE) RETURN a.article_id AS article_id, a.embedding AS embedding\").data()\n",
    "\n",
    "# # Prepare embeddings for similarity search\n",
    "# article_ids = [row['article_id'] for row in result]\n",
    "# embeddings = [row['embedding'] for row in result]\n"
   ]
  },
  {
   "cell_type": "code",
   "execution_count": 46,
   "id": "d7808fd9",
   "metadata": {},
   "outputs": [],
   "source": [
    "# from sklearn.metrics.pairwise import cosine_similarity\n",
    "# import numpy as np\n",
    "\n",
    "# # Compute similarity scores\n",
    "# similarities = cosine_similarity([Ques_embedding], embeddings)\n",
    "\n",
    "# # Rank articles by similarity\n",
    "# sorted_indices = np.argsort(-similarities[0])  # Descending order\n",
    "# top_articles = [(article_ids[i], similarities[0][i]) for i in sorted_indices[:5]]  # Top 5\n",
    "# print(\"Top Recommendations:\", top_articles)\n"
   ]
  },
  {
   "cell_type": "markdown",
   "id": "4a969d6c",
   "metadata": {},
   "source": [
    "### CREATING VECTOR INDEX\n",
    "##### to perform vector search "
   ]
  },
  {
   "cell_type": "code",
   "execution_count": 37,
   "id": "68307d4c",
   "metadata": {},
   "outputs": [
    {
     "data": {
      "text/plain": [
       "[]"
      ]
     },
     "execution_count": 37,
     "metadata": {},
     "output_type": "execute_result"
    }
   ],
   "source": [
    "query_vectorIndex = \"\"\"CREATE VECTOR INDEX moviePlots1 IF NOT EXISTS\n",
    "FOR (m:ARTICLE)\n",
    "ON m.embedding\n",
    "OPTIONS {indexConfig: {\n",
    " `vector.dimensions`: 1536,\n",
    " `vector.similarity_function`: 'cosine'\n",
    "}}\"\"\"\n",
    "conn.query(query_vectorIndex)"
   ]
  },
  {
   "cell_type": "markdown",
   "id": "25e64e25",
   "metadata": {},
   "source": [
    "#### check all the existing vector indexs"
   ]
  },
  {
   "cell_type": "code",
   "execution_count": 5,
   "id": "893e25ad",
   "metadata": {},
   "outputs": [
    {
     "data": {
      "text/html": [
       "<table><tr><th>id</th><th>name</th><th>type</th><th>state</th><th>populationPercent</th></tr><tr><td style=\"text-align:right\">2</td><td style=\"text-align:left\">moviePlots1</td><td style=\"text-align:left\">VECTOR</td><td style=\"text-align:left\">ONLINE</td><td style=\"text-align:right\">100.0</td></tr><tr><td style=\"text-align:right\">3</td><td style=\"text-align:left\">plot</td><td style=\"text-align:left\">VECTOR</td><td style=\"text-align:left\">ONLINE</td><td style=\"text-align:right\">100.0</td></tr></table>"
      ],
      "text/plain": [
       " id | name        | type   | state  | populationPercent \n",
       "----|-------------|--------|--------|-------------------\n",
       "  2 | moviePlots1 | VECTOR | ONLINE |             100.0 \n",
       "  3 | plot        | VECTOR | ONLINE |             100.0 "
      ]
     },
     "execution_count": 5,
     "metadata": {},
     "output_type": "execute_result"
    }
   ],
   "source": [
    "query_checkout_vectors = \"\"\"SHOW INDEXES  YIELD id, name, type, state, populationPercent WHERE type = \"VECTOR\" \"\"\"\n",
    "graph.run(query_checkout_vectors)"
   ]
  },
  {
   "cell_type": "markdown",
   "id": "201ce829",
   "metadata": {},
   "source": [
    "### User Query"
   ]
  },
  {
   "cell_type": "code",
   "execution_count": 65,
   "id": "ac1157a8",
   "metadata": {},
   "outputs": [],
   "source": [
    "user_query = \"\""
   ]
  },
  {
   "cell_type": "code",
   "execution_count": 7,
   "id": "88df164c",
   "metadata": {},
   "outputs": [],
   "source": [
    "from openai import OpenAI\n",
    "# Initialize the OpenAI client\n",
    "client = OpenAI(api_key=\"openai_api_key\")\n",
    "def get_embedding(text, model=\"text-embedding-ada-002\"):\n",
    "    # Replace newline characters with spaces\n",
    "    text = text.replace(\"\\n\", \" \")\n",
    "    # Call OpenAI API to get embeddings\n",
    "    embedding = client.embeddings.create(input=[text], model=model).data[0].embedding\n",
    "    return embedding\n",
    "text_input = user_query\n",
    "# Get embeddings for the text input\n",
    "Ques_embedding = get_embedding(text_input, model='text-embedding-ada-002')\n",
    "\n",
    "# Now 'embedding' variable contains the embeddings for the text input\n",
    "# print(embedding)\n"
   ]
  },
  {
   "cell_type": "code",
   "execution_count": 66,
   "id": "bd845175",
   "metadata": {},
   "outputs": [],
   "source": [
    "### Retrieval Using Neo4j"
   ]
  },
  {
   "cell_type": "code",
   "execution_count": 62,
   "id": "86709ad7",
   "metadata": {},
   "outputs": [
    {
     "data": {
      "text/html": [
       "<div>\n",
       "<style scoped>\n",
       "    .dataframe tbody tr th:only-of-type {\n",
       "        vertical-align: middle;\n",
       "    }\n",
       "\n",
       "    .dataframe tbody tr th {\n",
       "        vertical-align: top;\n",
       "    }\n",
       "\n",
       "    .dataframe thead th {\n",
       "        text-align: right;\n",
       "    }\n",
       "</style>\n",
       "<table border=\"1\" class=\"dataframe\">\n",
       "  <thead>\n",
       "    <tr style=\"text-align: right;\">\n",
       "      <th></th>\n",
       "      <th>article_id</th>\n",
       "      <th>title</th>\n",
       "      <th>detail_desc</th>\n",
       "      <th>similarity_score</th>\n",
       "    </tr>\n",
       "  </thead>\n",
       "  <tbody>\n",
       "    <tr>\n",
       "      <th>0</th>\n",
       "      <td>873596002</td>\n",
       "      <td>Mallow hood</td>\n",
       "      <td>Divided Collection Cropped zip-through hoodie ...</td>\n",
       "      <td>0.916290</td>\n",
       "    </tr>\n",
       "    <tr>\n",
       "      <th>1</th>\n",
       "      <td>509893003</td>\n",
       "      <td>Chuck Hood</td>\n",
       "      <td>Men H&amp;M Sport Sleeveless sports top in jersey ...</td>\n",
       "      <td>0.915604</td>\n",
       "    </tr>\n",
       "    <tr>\n",
       "      <th>2</th>\n",
       "      <td>505196001</td>\n",
       "      <td>Pearl Hoodie</td>\n",
       "      <td>Divided Selected Jumper in a fine, airy knit w...</td>\n",
       "      <td>0.915405</td>\n",
       "    </tr>\n",
       "    <tr>\n",
       "      <th>3</th>\n",
       "      <td>657126001</td>\n",
       "      <td>Iceland hood</td>\n",
       "      <td>Kids Sports Sports jacket in fleece with a hoo...</td>\n",
       "      <td>0.915009</td>\n",
       "    </tr>\n",
       "    <tr>\n",
       "      <th>4</th>\n",
       "      <td>779136001</td>\n",
       "      <td>Croydon unitard</td>\n",
       "      <td>Divided Collection Sleeveless unitard in jerse...</td>\n",
       "      <td>0.914917</td>\n",
       "    </tr>\n",
       "    <tr>\n",
       "      <th>5</th>\n",
       "      <td>649323001</td>\n",
       "      <td>LOVE Top</td>\n",
       "      <td>Divided Projects Cropped top in jersey with a ...</td>\n",
       "      <td>0.914734</td>\n",
       "    </tr>\n",
       "    <tr>\n",
       "      <th>6</th>\n",
       "      <td>561479001</td>\n",
       "      <td>Chicago boxy ls</td>\n",
       "      <td>Ladies H&amp;M Sport Fleece sports top with a funn...</td>\n",
       "      <td>0.914719</td>\n",
       "    </tr>\n",
       "    <tr>\n",
       "      <th>7</th>\n",
       "      <td>885803005</td>\n",
       "      <td>Cortina Fleece Jacket</td>\n",
       "      <td>Ladies H&amp;M Sport Hooded jacket in soft fleece ...</td>\n",
       "      <td>0.914642</td>\n",
       "    </tr>\n",
       "    <tr>\n",
       "      <th>8</th>\n",
       "      <td>885803002</td>\n",
       "      <td>Cortina Fleece Jacket (C)</td>\n",
       "      <td>Ladies H&amp;M Sport Hooded jacket in soft fleece ...</td>\n",
       "      <td>0.914642</td>\n",
       "    </tr>\n",
       "    <tr>\n",
       "      <th>9</th>\n",
       "      <td>669091004</td>\n",
       "      <td>ROBIN HOOD.</td>\n",
       "      <td>Men Underwear Zip-through hoodie in sweatshirt...</td>\n",
       "      <td>0.914474</td>\n",
       "    </tr>\n",
       "    <tr>\n",
       "      <th>10</th>\n",
       "      <td>543319001</td>\n",
       "      <td>Waterfall Hood</td>\n",
       "      <td>Divided Selected Long-sleeved jersey top with ...</td>\n",
       "      <td>0.914291</td>\n",
       "    </tr>\n",
       "    <tr>\n",
       "      <th>11</th>\n",
       "      <td>875978001</td>\n",
       "      <td>FO Joni hood</td>\n",
       "      <td>Baby Girl Zip-through hoodie in lightweight, p...</td>\n",
       "      <td>0.914093</td>\n",
       "    </tr>\n",
       "    <tr>\n",
       "      <th>12</th>\n",
       "      <td>635507001</td>\n",
       "      <td>Sue Ellen Hood</td>\n",
       "      <td>Divided Collection Loose-knit hooded jumper in...</td>\n",
       "      <td>0.913879</td>\n",
       "    </tr>\n",
       "    <tr>\n",
       "      <th>13</th>\n",
       "      <td>907692001</td>\n",
       "      <td>Eclipse zip hood(1)</td>\n",
       "      <td>Divided Collection Oversized zip-through hoodi...</td>\n",
       "      <td>0.913818</td>\n",
       "    </tr>\n",
       "    <tr>\n",
       "      <th>14</th>\n",
       "      <td>860711001</td>\n",
       "      <td>CHUCK SLEEVELESS HOOD</td>\n",
       "      <td>Men Underwear Sleeveless sports top in jersey....</td>\n",
       "      <td>0.913437</td>\n",
       "    </tr>\n",
       "    <tr>\n",
       "      <th>15</th>\n",
       "      <td>809344002</td>\n",
       "      <td>ZOMBIE TEDDY HOOD</td>\n",
       "      <td>Divided Collection Jacket in soft pile with a ...</td>\n",
       "      <td>0.913437</td>\n",
       "    </tr>\n",
       "    <tr>\n",
       "      <th>16</th>\n",
       "      <td>740909001</td>\n",
       "      <td>CSP Tammie sweatshirt</td>\n",
       "      <td>Divided Collection Short top in soft fleece wi...</td>\n",
       "      <td>0.913315</td>\n",
       "    </tr>\n",
       "    <tr>\n",
       "      <th>17</th>\n",
       "      <td>508933003</td>\n",
       "      <td>MOLLY FANCY</td>\n",
       "      <td>Girls Underwear &amp; Basics Hooded jacket with a ...</td>\n",
       "      <td>0.913254</td>\n",
       "    </tr>\n",
       "    <tr>\n",
       "      <th>18</th>\n",
       "      <td>805541001</td>\n",
       "      <td>Wilder zip hood</td>\n",
       "      <td>Men H&amp;M Sport Sports jacket in sturdy jersey w...</td>\n",
       "      <td>0.912964</td>\n",
       "    </tr>\n",
       "    <tr>\n",
       "      <th>19</th>\n",
       "      <td>702758001</td>\n",
       "      <td>Gyle anorak</td>\n",
       "      <td>Contemporary Street Top in lightweight sweatsh...</td>\n",
       "      <td>0.912872</td>\n",
       "    </tr>\n",
       "  </tbody>\n",
       "</table>\n",
       "</div>"
      ],
      "text/plain": [
       "   article_id                      title  \\\n",
       "0   873596002                Mallow hood   \n",
       "1   509893003                 Chuck Hood   \n",
       "2   505196001               Pearl Hoodie   \n",
       "3   657126001               Iceland hood   \n",
       "4   779136001            Croydon unitard   \n",
       "5   649323001                   LOVE Top   \n",
       "6   561479001            Chicago boxy ls   \n",
       "7   885803005      Cortina Fleece Jacket   \n",
       "8   885803002  Cortina Fleece Jacket (C)   \n",
       "9   669091004                ROBIN HOOD.   \n",
       "10  543319001             Waterfall Hood   \n",
       "11  875978001               FO Joni hood   \n",
       "12  635507001             Sue Ellen Hood   \n",
       "13  907692001        Eclipse zip hood(1)   \n",
       "14  860711001      CHUCK SLEEVELESS HOOD   \n",
       "15  809344002          ZOMBIE TEDDY HOOD   \n",
       "16  740909001      CSP Tammie sweatshirt   \n",
       "17  508933003                MOLLY FANCY   \n",
       "18  805541001            Wilder zip hood   \n",
       "19  702758001                Gyle anorak   \n",
       "\n",
       "                                          detail_desc  similarity_score  \n",
       "0   Divided Collection Cropped zip-through hoodie ...          0.916290  \n",
       "1   Men H&M Sport Sleeveless sports top in jersey ...          0.915604  \n",
       "2   Divided Selected Jumper in a fine, airy knit w...          0.915405  \n",
       "3   Kids Sports Sports jacket in fleece with a hoo...          0.915009  \n",
       "4   Divided Collection Sleeveless unitard in jerse...          0.914917  \n",
       "5   Divided Projects Cropped top in jersey with a ...          0.914734  \n",
       "6   Ladies H&M Sport Fleece sports top with a funn...          0.914719  \n",
       "7   Ladies H&M Sport Hooded jacket in soft fleece ...          0.914642  \n",
       "8   Ladies H&M Sport Hooded jacket in soft fleece ...          0.914642  \n",
       "9   Men Underwear Zip-through hoodie in sweatshirt...          0.914474  \n",
       "10  Divided Selected Long-sleeved jersey top with ...          0.914291  \n",
       "11  Baby Girl Zip-through hoodie in lightweight, p...          0.914093  \n",
       "12  Divided Collection Loose-knit hooded jumper in...          0.913879  \n",
       "13  Divided Collection Oversized zip-through hoodi...          0.913818  \n",
       "14  Men Underwear Sleeveless sports top in jersey....          0.913437  \n",
       "15  Divided Collection Jacket in soft pile with a ...          0.913437  \n",
       "16  Divided Collection Short top in soft fleece wi...          0.913315  \n",
       "17  Girls Underwear & Basics Hooded jacket with a ...          0.913254  \n",
       "18  Men H&M Sport Sports jacket in sturdy jersey w...          0.912964  \n",
       "19  Contemporary Street Top in lightweight sweatsh...          0.912872  "
      ]
     },
     "execution_count": 62,
     "metadata": {},
     "output_type": "execute_result"
    }
   ],
   "source": [
    "openaikey = 'openai_api_key'\n",
    "OPENAI_ENDPOINT = 'https://api.openai.com/v1/'\n",
    "query_string = \"\"\"\n",
    "    CALL db.index.vector.queryNodes(\n",
    "        'plot', \n",
    "        35, \n",
    "        $Ques_embedding\n",
    "        ) YIELD node AS movie, score\n",
    "    RETURN  movie.article_id, movie.title, movie.detail_desc, score\n",
    "\"\"\"\n",
    "\n",
    "result = conn.query(query_string, {'Ques_embedding':Ques_embedding\n",
    "                \n",
    "})\n",
    "# print(result)\n",
    "column_names = ['article_id','title', 'detail_desc', 'similarity_score'] \n",
    "answer  = pd.DataFrame(result, columns=column_names)\n",
    "\n",
    "answer.head(20)"
   ]
  },
  {
   "cell_type": "markdown",
   "id": "ee9d9091",
   "metadata": {},
   "source": [
    "### Prep to prompt"
   ]
  },
  {
   "cell_type": "code",
   "execution_count": 63,
   "id": "172cf6dc",
   "metadata": {},
   "outputs": [
    {
     "name": "stdout",
     "output_type": "stream",
     "text": [
      "1. Mallow hood: Divided Collection Cropped zip-through hoodie in sweatshirt fabric with a jersey-lined hood and zip down the front. Boxy style with low-dropped shoulders, long wide sleeves and ribbing at the cuffs and hem. Soft brushed inside.\n",
      "2. Chuck Hood: Men H&M Sport Sleeveless sports top in jersey with a mesh-lined hood with a drawstring and collar, and a rounded hem.\n",
      "3. Pearl Hoodie: Divided Selected Jumper in a fine, airy knit with a double-layered wrapover hood and kangaroo pocket.\n",
      "\n"
     ]
    }
   ],
   "source": [
    "### trail 01\n",
    "\n",
    "\n",
    "import pandas as pd\n",
    "\n",
    "def prepare_context_from_df(retrieved_items_df):\n",
    "    context =''\n",
    "    for idx, row in retrieved_items_df.iterrows():\n",
    "        context += f\"{idx + 1}. {row['title']}: {row['detail_desc']}\\n\"\n",
    "    return context\n",
    "\n",
    "# Example retrieved items as a DataFrame\n",
    "\n",
    "\n",
    "context = prepare_context_from_df(answer.head(3))\n",
    "print(context)\n",
    "\n"
   ]
  },
  {
   "cell_type": "markdown",
   "id": "87d869b5",
   "metadata": {},
   "source": [
    "### Generation Phase"
   ]
  },
  {
   "cell_type": "code",
   "execution_count": 64,
   "id": "d6dca3db",
   "metadata": {},
   "outputs": [
    {
     "name": "stdout",
     "output_type": "stream",
     "text": [
      "Generated Answer:\n",
      " For the Mallow Hood Cropped zip-through hoodie, you can pair it with high-waisted leggings or sweatpants for a casual and sporty look. You can also layer it over a plain white t-shirt or tank top for added comfort.\n",
      "\n",
      "Alternatively, you can pair the Chuck Hood Sleeveless sports top with basketball shorts or track pants for a gym-ready outfit. Adding a pair of sneakers will complete the athletic look.\n",
      "\n",
      "For the Pearl Hoodie Jumper, you can style it with high-waisted jeans or denim shorts for a relaxed and cozy ensemble. To elevate the outfit, you can accessorize with a beanie or baseball cap and ankle boots.\n",
      "\n",
      "These suggestions aim to complement the different styles of hoodies you mentioned and provide versatile pairing options for various occasions.\n"
     ]
    }
   ],
   "source": [
    "def generate_answer(user_query, context):\n",
    "    messages = [\n",
    "        {\"role\": \"system\", \"content\": \"You are a helpful assistant providing product recommendations.\"},\n",
    "        {\"role\": \"user\", \"content\": f\"User Query: {user_query}\\nContext:\\n{context}\\nProvide a recommendation for what can be paired with the user's described item.\"}\n",
    "    ]\n",
    "    # Generate response\n",
    "    response = client.chat.completions.create(\n",
    "        model=\"gpt-3.5-turbo\",  # Use 'gpt-4' for more advanced capabilities\n",
    "        messages=messages,\n",
    "        max_tokens=200\n",
    "    ).to_dict()  # Convert to a dictionary\n",
    "\n",
    "    # Extract the content\n",
    "    return response['choices'][0]['message']['content'].strip()\n",
    "\n",
    "# Example usage\n",
    "user_query = \"What can I pair with it?\"\n",
    "context = context\n",
    "answer = generate_answer(user_query, context)\n",
    "print(\"Generated Answer:\\n\", answer)\n"
   ]
  }
 ],
 "metadata": {
  "kernelspec": {
   "display_name": "Python 3 (ipykernel)",
   "language": "python",
   "name": "python3"
  },
  "language_info": {
   "codemirror_mode": {
    "name": "ipython",
    "version": 3
   },
   "file_extension": ".py",
   "mimetype": "text/x-python",
   "name": "python",
   "nbconvert_exporter": "python",
   "pygments_lexer": "ipython3",
   "version": "3.9.13"
  }
 },
 "nbformat": 4,
 "nbformat_minor": 5
}
