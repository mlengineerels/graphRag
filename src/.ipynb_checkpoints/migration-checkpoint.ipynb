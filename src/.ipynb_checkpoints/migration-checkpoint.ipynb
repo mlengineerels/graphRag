{
 "cells": [
  {
   "cell_type": "markdown",
   "id": "24221b6e",
   "metadata": {},
   "source": [
    "# Building Knowledge Graph using Neo4J"
   ]
  },
  {
   "cell_type": "markdown",
   "id": "48974bdd",
   "metadata": {},
   "source": [
    "### Import Packs\n"
   ]
  },
  {
   "cell_type": "code",
   "execution_count": 10,
   "id": "1d8d66fa",
   "metadata": {},
   "outputs": [],
   "source": [
    "import pandas as pd\n",
    "from py2neo import Graph, Node, Relationship, NodeMatcher\n",
    "from neo4j import GraphDatabase\n",
    "import matplotlib\n",
    "import matplotlib.pyplot as plt\n",
    "import yaml"
   ]
  },
  {
   "cell_type": "code",
   "execution_count": 31,
   "id": "af72365c",
   "metadata": {},
   "outputs": [],
   "source": [
    "### Import Params"
   ]
  },
  {
   "cell_type": "code",
   "execution_count": 11,
   "id": "e3d0e99c",
   "metadata": {},
   "outputs": [],
   "source": [
    "\n",
    "\n",
    "# Load the configuration file\n",
    "with open(\"config.yaml\", \"r\") as file:\n",
    "    config = yaml.safe_load(file)\n",
    "\n",
    "# Accessing keys and credentials\n",
    "# openai_api_key = config[\"openai\"][\"api_key\"]\n",
    "neo4j_uri = config[\"neo4j\"][\"uri\"]\n",
    "neo4j_user = config[\"neo4j\"][\"user\"]\n",
    "neo4j_password = config[\"neo4j\"][\"password\"]"
   ]
  },
  {
   "cell_type": "markdown",
   "id": "9e6e0edd",
   "metadata": {},
   "source": [
    "### Establishing Connection with NEO4J"
   ]
  },
  {
   "cell_type": "code",
   "execution_count": 32,
   "id": "2b2089af",
   "metadata": {},
   "outputs": [
    {
     "data": {
      "text/html": [
       "<table><tr><th>count(n)</th></tr><tr><td style=\"text-align:right\">46206</td></tr></table>"
      ],
      "text/plain": [
       " count(n) \n",
       "----------\n",
       "    46206 "
      ]
     },
     "execution_count": 32,
     "metadata": {},
     "output_type": "execute_result"
    }
   ],
   "source": [
    "\n",
    "### Neo4j Connection Details\n",
    "NEO4J_URI = neo4j_uri\n",
    "NEO4J_USER = neo4j_user\n",
    "NEO4J_PASSWORD = neo4j_password\n",
    "\n",
    "# Establish connection\n",
    "graph = Graph(NEO4J_URI, auth=(NEO4J_USER, NEO4J_PASSWORD))\n",
    "\n",
    "### Checking the connection by looking over the data in the Database\n",
    "graph.run(\"MATCH (n) return count(n)\")\n"
   ]
  },
  {
   "cell_type": "code",
   "execution_count": 33,
   "id": "50d8b6c7",
   "metadata": {},
   "outputs": [],
   "source": [
    "class Neo4jConnection:\n",
    "    def __init__(self, uri, user, pwd):\n",
    "        self.__uri = uri\n",
    "        self.__user = user\n",
    "        self.__pwd = pwd\n",
    "        self.__driver = None\n",
    "        try:\n",
    "            self.__driver = GraphDatabase.driver(self.__uri, auth=(self.__user, self.__pwd))\n",
    "        except Exception as e:\n",
    "            print(\"Failed to create the driver:\", e)\n",
    "    def close(self):\n",
    "        if self.__driver is not None:\n",
    "            self.__driver.close()\n",
    "    def query(self, query, parameters=None, db=None):\n",
    "        assert self.__driver is not None, \"Driver not initialized!\"\n",
    "        session = None\n",
    "        response = None\n",
    "        try: \n",
    "            session = self.__driver.session(database=db) if db is not None else self.__driver.session() \n",
    "            response = list(session.run(query, parameters))\n",
    "        except Exception as e:\n",
    "            print(\"Query failed:\", e)\n",
    "        finally: \n",
    "            if session is not None:\n",
    "                session.close()\n",
    "        return response"
   ]
  },
  {
   "cell_type": "code",
   "execution_count": 22,
   "id": "4054e655",
   "metadata": {},
   "outputs": [],
   "source": [
    "conn = Neo4jConnection(uri=NEO4J_URI, user=NEO4J_USER, pwd=NEO4J_PASSWORD)"
   ]
  },
  {
   "cell_type": "code",
   "execution_count": 34,
   "id": "52b4dbbc",
   "metadata": {},
   "outputs": [],
   "source": [
    "# df = pd.read_csv(\"../data/curated.csv\")\n",
    "# print(df.columns)"
   ]
  },
  {
   "cell_type": "code",
   "execution_count": 35,
   "id": "18c1ccf1",
   "metadata": {},
   "outputs": [],
   "source": [
    "# df.article_id.count()"
   ]
  },
  {
   "cell_type": "markdown",
   "id": "abfcfa97",
   "metadata": {},
   "source": [
    "#### Load Data from Curated"
   ]
  },
  {
   "cell_type": "code",
   "execution_count": 28,
   "id": "d058e5c9",
   "metadata": {},
   "outputs": [],
   "source": [
    "query = \"\"\"CALL apoc.periodic.iterate(\n",
    "  'LOAD CSV WITH HEADERS FROM \"file:///curated.csv\" AS row RETURN row',\n",
    "  '\n",
    "  WITH row\n",
    "  MERGE (i:ARTICLE {title: row.prod_name})\n",
    "    ON CREATE SET \n",
    "      i.article_id = row.article_id, \n",
    "      i.product_code = row.product_code,\n",
    "      i.detail_desc = row.detail_desc, \n",
    "      i.product_group_name = row.product_group_name, \n",
    "      i.product_type_name = row.product_type_name\n",
    "  \n",
    "  MERGE (a:DEPT {name: row.department_name})\n",
    "  \n",
    "  MERGE (b:COLOR {name: row.colour_group_name})\n",
    "  \n",
    "  MERGE (c:INDEX {name: row.index_name})\n",
    "    ON CREATE SET \n",
    "      c.index_group_name = row.index_group_name\n",
    "  \n",
    "  MERGE (d:GARMENT {name: row.garment_group_name})\n",
    "  \n",
    "  MERGE (i)-[:DEPARTMENT_OF]->(a)\n",
    "  MERGE (i)-[:COLOURED_IN]->(b)\n",
    "  MERGE (i)-[:GROUP_OF]->(c)\n",
    "  MERGE (i)-[:TYPE_OF]->(d)\n",
    "  ',\n",
    "  {batchSize: 100, parallel: false, failOnError: false}\n",
    ");\"\"\"\n"
   ]
  },
  {
   "cell_type": "code",
   "execution_count": 29,
   "id": "ba64c55f",
   "metadata": {},
   "outputs": [
    {
     "data": {
      "text/plain": [
       "[<Record batches=1056 total=105542 timeTaken=535 committedOperations=105542 failedOperations=0 failedBatches=0 retries=0 errorMessages={} batch={'total': 1056, 'errors': {}, 'committed': 1056, 'failed': 0} operations={'total': 105542, 'errors': {}, 'committed': 105542, 'failed': 0} wasTerminated=False failedParams={} updateStatistics={'relationshipsDeleted': 0, 'relationshipsCreated': 231096, 'nodesDeleted': 0, 'nodesCreated': 46206, 'labelsRemoved': 0, 'labelsAdded': 46206, 'propertiesSet': 275591}>]"
      ]
     },
     "execution_count": 29,
     "metadata": {},
     "output_type": "execute_result"
    }
   ],
   "source": [
    "conn.query(query)"
   ]
  },
  {
   "cell_type": "code",
   "execution_count": null,
   "id": "fa75b0a2",
   "metadata": {},
   "outputs": [],
   "source": []
  }
 ],
 "metadata": {
  "kernelspec": {
   "display_name": "Python 3 (ipykernel)",
   "language": "python",
   "name": "python3"
  },
  "language_info": {
   "codemirror_mode": {
    "name": "ipython",
    "version": 3
   },
   "file_extension": ".py",
   "mimetype": "text/x-python",
   "name": "python",
   "nbconvert_exporter": "python",
   "pygments_lexer": "ipython3",
   "version": "3.9.13"
  }
 },
 "nbformat": 4,
 "nbformat_minor": 5
}
