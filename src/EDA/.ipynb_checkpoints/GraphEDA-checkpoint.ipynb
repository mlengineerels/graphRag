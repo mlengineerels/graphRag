{
 "cells": [
  {
   "cell_type": "markdown",
   "id": "a4025251",
   "metadata": {},
   "source": [
    "### Import Packages and Prams"
   ]
  },
  {
   "cell_type": "code",
   "execution_count": 1,
   "id": "65d62e41",
   "metadata": {},
   "outputs": [],
   "source": [
    "import pandas as pd\n",
    "from py2neo import Graph, Node, Relationship, NodeMatcher\n",
    "from neo4j import GraphDatabase\n",
    "import matplotlib\n",
    "import matplotlib.pyplot as plt\n",
    "import yaml"
   ]
  },
  {
   "cell_type": "code",
   "execution_count": 3,
   "id": "bb188330",
   "metadata": {},
   "outputs": [],
   "source": [
    "\n",
    "\n",
    "# Load the configuration file\n",
    "with open(\"../config.yaml\", \"r\") as file:\n",
    "    config = yaml.safe_load(file)\n",
    "\n",
    "# Accessing keys and credentials\n",
    "# openai_api_key = config[\"openai\"][\"api_key\"]\n",
    "neo4j_uri = config[\"neo4j\"][\"uri\"]\n",
    "neo4j_user = config[\"neo4j\"][\"user\"]\n",
    "neo4j_password = config[\"neo4j\"][\"password\"]"
   ]
  },
  {
   "cell_type": "markdown",
   "id": "3f7c114b",
   "metadata": {},
   "source": [
    "## Establishing Connection"
   ]
  },
  {
   "cell_type": "code",
   "execution_count": 5,
   "id": "9dd26300",
   "metadata": {},
   "outputs": [],
   "source": [
    "\n",
    "### Neo4j Connection Details\n",
    "NEO4J_URI = neo4j_uri\n",
    "NEO4J_USER = neo4j_user\n",
    "NEO4J_PASSWORD = neo4j_password\n",
    "\n",
    "# Establish connection\n",
    "graph = Graph(NEO4J_URI, auth=(NEO4J_USER, NEO4J_PASSWORD))\n",
    "\n",
    "### Checking the connection by looking over the data in the Database\n",
    "# graph.run(\"MATCH (n) return count(n)\")\n"
   ]
  },
  {
   "cell_type": "code",
   "execution_count": 17,
   "id": "036492fd",
   "metadata": {},
   "outputs": [],
   "source": [
    "class Neo4jConnection:\n",
    "    def __init__(self, uri, user, pwd):\n",
    "        self.__uri = uri\n",
    "        self.__user = user\n",
    "        self.__pwd = pwd\n",
    "        self.__driver = None\n",
    "        try:\n",
    "            self.__driver = GraphDatabase.driver(self.__uri, auth=(self.__user, self.__pwd))\n",
    "        except Exception as e:\n",
    "            print(\"Failed to create the driver:\", e)\n",
    "    def close(self):\n",
    "        if self.__driver is not None:\n",
    "            self.__driver.close()\n",
    "    def query(self, query, parameters=None, db=None):\n",
    "        assert self.__driver is not None, \"Driver not initialized!\"\n",
    "        session = None\n",
    "        response = None\n",
    "        try: \n",
    "            session = self.__driver.session(database=db) if db is not None else self.__driver.session() \n",
    "            response = list(session.run(query, parameters))\n",
    "        except Exception as e:\n",
    "            print(\"Query failed:\", e)\n",
    "        finally: \n",
    "            if session is not None:\n",
    "                session.close()\n",
    "        return response"
   ]
  },
  {
   "cell_type": "code",
   "execution_count": 18,
   "id": "86a51ff5",
   "metadata": {},
   "outputs": [],
   "source": [
    "conn = Neo4jConnection(uri=NEO4J_URI, user=NEO4J_USER, pwd=NEO4J_PASSWORD)"
   ]
  },
  {
   "cell_type": "markdown",
   "id": "60696feb",
   "metadata": {},
   "source": [
    "### Graph Schema"
   ]
  },
  {
   "cell_type": "code",
   "execution_count": 24,
   "id": "f14e420a",
   "metadata": {},
   "outputs": [
    {
     "data": {
      "text/plain": [
       "[<Record nodes=[<Node element_id='-115' labels=frozenset({'ARTICLE'}) properties={'name': 'ARTICLE', 'indexes': [], 'constraints': []}>, <Node element_id='-117' labels=frozenset({'COLOR'}) properties={'name': 'COLOR', 'indexes': [], 'constraints': []}>, <Node element_id='-116' labels=frozenset({'DEPT'}) properties={'name': 'DEPT', 'indexes': [], 'constraints': []}>, <Node element_id='-118' labels=frozenset({'INDEX'}) properties={'name': 'INDEX', 'indexes': [], 'constraints': []}>, <Node element_id='-119' labels=frozenset({'GARMENT'}) properties={'name': 'GARMENT', 'indexes': [], 'constraints': []}>] relationships=[<Relationship element_id='-114' nodes=(<Node element_id='-115' labels=frozenset({'ARTICLE'}) properties={'name': 'ARTICLE', 'indexes': [], 'constraints': []}>, <Node element_id='-118' labels=frozenset({'INDEX'}) properties={'name': 'INDEX', 'indexes': [], 'constraints': []}>) type='GROUP_OF' properties={'name': 'GROUP_OF'}>, <Relationship element_id='-113' nodes=(<Node element_id='-115' labels=frozenset({'ARTICLE'}) properties={'name': 'ARTICLE', 'indexes': [], 'constraints': []}>, <Node element_id='-117' labels=frozenset({'COLOR'}) properties={'name': 'COLOR', 'indexes': [], 'constraints': []}>) type='COLOURED_IN' properties={'name': 'COLOURED_IN'}>, <Relationship element_id='-112' nodes=(<Node element_id='-115' labels=frozenset({'ARTICLE'}) properties={'name': 'ARTICLE', 'indexes': [], 'constraints': []}>, <Node element_id='-116' labels=frozenset({'DEPT'}) properties={'name': 'DEPT', 'indexes': [], 'constraints': []}>) type='DEPARTMENT_OF' properties={'name': 'DEPARTMENT_OF'}>, <Relationship element_id='-115' nodes=(<Node element_id='-115' labels=frozenset({'ARTICLE'}) properties={'name': 'ARTICLE', 'indexes': [], 'constraints': []}>, <Node element_id='-119' labels=frozenset({'GARMENT'}) properties={'name': 'GARMENT', 'indexes': [], 'constraints': []}>) type='TYPE_OF' properties={'name': 'TYPE_OF'}>]>]"
      ]
     },
     "execution_count": 24,
     "metadata": {},
     "output_type": "execute_result"
    }
   ],
   "source": [
    "query = \"CALL db.schema.visualization()\"\n",
    "conn.query(query)"
   ]
  },
  {
   "cell_type": "markdown",
   "id": "57327429",
   "metadata": {},
   "source": [
    "#### Count(NODES)"
   ]
  },
  {
   "cell_type": "code",
   "execution_count": 23,
   "id": "a0c10347",
   "metadata": {},
   "outputs": [
    {
     "data": {
      "text/plain": [
       "[<Record Label='ARTICLE' Count=45875>,\n",
       " <Record Label='DEPT' Count=250>,\n",
       " <Record Label='COLOR' Count=50>,\n",
       " <Record Label='GARMENT' Count=21>,\n",
       " <Record Label='INDEX' Count=10>]"
      ]
     },
     "execution_count": 23,
     "metadata": {},
     "output_type": "execute_result"
    }
   ],
   "source": [
    "query = \"\"\"MATCH (n) RETURN labels(n)[0] AS Label, COUNT(n) AS Count ORDER BY Count DESC\"\"\"\n",
    "conn.query(query)\n"
   ]
  },
  {
   "cell_type": "markdown",
   "id": "d2cba2b4",
   "metadata": {},
   "source": [
    "#### COUNT(RELATIONSHIPS)"
   ]
  },
  {
   "cell_type": "code",
   "execution_count": 22,
   "id": "258df5b0",
   "metadata": {},
   "outputs": [
    {
     "data": {
      "text/plain": [
       "[<Record RelationshipType='COLOURED_IN' Count=90918>,\n",
       " <Record RelationshipType='DEPARTMENT_OF' Count=47244>,\n",
       " <Record RelationshipType='TYPE_OF' Count=46583>,\n",
       " <Record RelationshipType='GROUP_OF' Count=46351>]"
      ]
     },
     "execution_count": 22,
     "metadata": {},
     "output_type": "execute_result"
    }
   ],
   "source": [
    "query = \"\"\"MATCH ()-[r]->() RETURN TYPE(r) AS RelationshipType, COUNT(r) AS Count ORDER BY Count DESC\"\"\"\n",
    "conn.query(query)"
   ]
  },
  {
   "cell_type": "markdown",
   "id": "56034dd0",
   "metadata": {},
   "source": [
    "#### COMMON(PRODUCTGROUPS) ---> Most Common ProductGroups"
   ]
  },
  {
   "cell_type": "code",
   "execution_count": 20,
   "id": "063525c8",
   "metadata": {},
   "outputs": [
    {
     "data": {
      "text/plain": [
       "[<Record ProductGroup='Garment Upper body' Count=16784>,\n",
       " <Record ProductGroup='Garment Lower body' Count=8396>,\n",
       " <Record ProductGroup='Garment Full body' Count=6644>,\n",
       " <Record ProductGroup='Accessories' Count=6180>,\n",
       " <Record ProductGroup='Shoes' Count=2630>,\n",
       " <Record ProductGroup='Underwear' Count=2189>,\n",
       " <Record ProductGroup='Swimwear' Count=1385>,\n",
       " <Record ProductGroup='Socks & Tights' Count=788>,\n",
       " <Record ProductGroup='Nightwear' Count=737>,\n",
       " <Record ProductGroup='Unknown' Count=50>]"
      ]
     },
     "execution_count": 20,
     "metadata": {},
     "output_type": "execute_result"
    }
   ],
   "source": [
    "query = \"\"\"MATCH (p:ARTICLE) RETURN p.product_group_name AS ProductGroup, COUNT(*) AS Count ORDER BY Count DESC LIMIT 10\"\"\"\n",
    "conn.query(query)"
   ]
  },
  {
   "cell_type": "markdown",
   "id": "3b866435",
   "metadata": {},
   "source": [
    "#### COMMON(COLOR)  --->  Most Common Color"
   ]
  },
  {
   "cell_type": "code",
   "execution_count": 26,
   "id": "bd01d47d",
   "metadata": {},
   "outputs": [
    {
     "data": {
      "text/plain": [
       "[<Record Color='Other Green' Count=1>,\n",
       " <Record Color='Other Blue' Count=1>,\n",
       " <Record Color='Light Purple' Count=1>,\n",
       " <Record Color='Dark Turquoise' Count=1>,\n",
       " <Record Color='Other Purple' Count=1>,\n",
       " <Record Color='Bronze/Copper' Count=1>,\n",
       " <Record Color='Black' Count=1>,\n",
       " <Record Color='White' Count=1>,\n",
       " <Record Color='Off White' Count=1>,\n",
       " <Record Color='Other Turquoise' Count=1>]"
      ]
     },
     "execution_count": 26,
     "metadata": {},
     "output_type": "execute_result"
    }
   ],
   "source": [
    "query = \"\"\"MATCH (c:COLOR) RETURN c.name AS Color, COUNT(*) AS Count ORDER BY Count DESC LIMIT 10 \"\"\"\n",
    "conn.query(query)"
   ]
  },
  {
   "cell_type": "markdown",
   "id": "860b1412",
   "metadata": {},
   "source": [
    "### Top Connected Nodes"
   ]
  },
  {
   "cell_type": "code",
   "execution_count": 28,
   "id": "7522f9b1",
   "metadata": {},
   "outputs": [
    {
     "data": {
      "text/plain": [
       "[<Record NodeLabel='ARTICLE' NodeName=None Degree=231096>,\n",
       " <Record NodeLabel='COLOR' NodeName='Black' Degree=18775>,\n",
       " <Record NodeLabel='INDEX' NodeName='Ladieswear' Degree=12944>,\n",
       " <Record NodeLabel='COLOR' NodeName='Dark Blue' Degree=9244>,\n",
       " <Record NodeLabel='GARMENT' NodeName='Jersey Fancy' Degree=8140>,\n",
       " <Record NodeLabel='COLOR' NodeName='White' Degree=7686>,\n",
       " <Record NodeLabel='INDEX' NodeName='Divided' Degree=6786>,\n",
       " <Record NodeLabel='GARMENT' NodeName='Accessories' Degree=6272>,\n",
       " <Record NodeLabel='COLOR' NodeName='Light Pink' Degree=4848>,\n",
       " <Record NodeLabel='INDEX' NodeName='Menswear' Degree=4624>]"
      ]
     },
     "execution_count": 28,
     "metadata": {},
     "output_type": "execute_result"
    }
   ],
   "source": [
    "query = \"\"\"MATCH (n)-[r]-()\n",
    "RETURN labels(n)[0] AS NodeLabel, n.name AS NodeName, COUNT(r) AS Degree\n",
    "ORDER BY Degree DESC\n",
    "LIMIT 10\n",
    "\"\"\"\n",
    "\n",
    "conn.query(query)"
   ]
  },
  {
   "cell_type": "markdown",
   "id": "75b14979",
   "metadata": {},
   "source": [
    "### Frequent Colors in Articles"
   ]
  },
  {
   "cell_type": "code",
   "execution_count": 29,
   "id": "abe79044",
   "metadata": {},
   "outputs": [
    {
     "data": {
      "text/plain": [
       "[<Record Color='Black' ArticleCount=18775>,\n",
       " <Record Color='Dark Blue' ArticleCount=9244>,\n",
       " <Record Color='White' ArticleCount=7686>,\n",
       " <Record Color='Light Pink' ArticleCount=4848>,\n",
       " <Record Color='Grey' ArticleCount=3783>,\n",
       " <Record Color='Light Beige' ArticleCount=3112>,\n",
       " <Record Color='Red' ArticleCount=2759>,\n",
       " <Record Color='Blue' ArticleCount=2725>,\n",
       " <Record Color='Light Blue' ArticleCount=2616>,\n",
       " <Record Color='Beige' ArticleCount=2523>]"
      ]
     },
     "execution_count": 29,
     "metadata": {},
     "output_type": "execute_result"
    }
   ],
   "source": [
    "query = \"\"\"MATCH (a:ARTICLE)-[:COLOURED_IN]->(c:COLOR)\n",
    "RETURN c.name AS Color, COUNT(a) AS ArticleCount\n",
    "ORDER BY ArticleCount DESC\n",
    "LIMIT 10\"\"\"\n",
    "\n",
    "conn.query(query)"
   ]
  },
  {
   "cell_type": "markdown",
   "id": "a1f319be",
   "metadata": {},
   "source": [
    "### Relationship Between Garments and Index"
   ]
  },
  {
   "cell_type": "code",
   "execution_count": 30,
   "id": "5b7558fb",
   "metadata": {},
   "outputs": [
    {
     "data": {
      "text/plain": [
       "[<Record GarmentType='Jersey Fancy' IndexName='Ladieswear' ArticleCount=2953>,\n",
       " <Record GarmentType='Accessories' IndexName='Ladies Accessories' ArticleCount=2940>,\n",
       " <Record GarmentType='Blouses' IndexName='Ladieswear' ArticleCount=2340>,\n",
       " <Record GarmentType='Under-, Nightwear' IndexName='Lingeries/Tights' ArticleCount=1933>,\n",
       " <Record GarmentType='Trousers' IndexName='Ladieswear' ArticleCount=1427>,\n",
       " <Record GarmentType='Dresses Ladies' IndexName='Ladieswear' ArticleCount=1329>,\n",
       " <Record GarmentType='Knitwear' IndexName='Ladieswear' ArticleCount=1308>,\n",
       " <Record GarmentType='Accessories' IndexName='Children Accessories, Swimwear' ArticleCount=1290>,\n",
       " <Record GarmentType='Unknown' IndexName='Ladieswear' ArticleCount=1270>,\n",
       " <Record GarmentType='Jersey Fancy' IndexName='Baby Sizes 50-98' ArticleCount=1166>]"
      ]
     },
     "execution_count": 30,
     "metadata": {},
     "output_type": "execute_result"
    }
   ],
   "source": [
    "query = \"\"\"MATCH (a:ARTICLE)-[:TYPE_OF]->(g:GARMENT), (a)-[:GROUP_OF]->(i:INDEX)\n",
    "RETURN g.name AS GarmentType, i.name AS IndexName, COUNT(a) AS ArticleCount\n",
    "ORDER BY ArticleCount DESC\n",
    "LIMIT 10\n",
    "\"\"\"\n",
    "\n",
    "conn.query(query)"
   ]
  },
  {
   "cell_type": "markdown",
   "id": "2321fcc6",
   "metadata": {},
   "source": [
    "### Find Popular Departments"
   ]
  },
  {
   "cell_type": "code",
   "execution_count": 31,
   "id": "a5428bcd",
   "metadata": {},
   "outputs": [
    {
     "data": {
      "text/plain": [
       "[<Record Department='Jersey' ArticleCount=2285>,\n",
       " <Record Department='Knitwear' ArticleCount=1460>,\n",
       " <Record Department='Trouser' ArticleCount=1110>,\n",
       " <Record Department='Dress' ArticleCount=974>,\n",
       " <Record Department='Blouse' ArticleCount=943>,\n",
       " <Record Department='Swimwear' ArticleCount=875>,\n",
       " <Record Department='Expressive Lingerie' ArticleCount=853>,\n",
       " <Record Department='Jewellery' ArticleCount=807>,\n",
       " <Record Department='Outwear' ArticleCount=634>,\n",
       " <Record Department='Blouse & Dress' ArticleCount=604>]"
      ]
     },
     "execution_count": 31,
     "metadata": {},
     "output_type": "execute_result"
    }
   ],
   "source": [
    "query = \"\"\"MATCH (a:ARTICLE)-[:DEPARTMENT_OF]->(d:DEPT)\n",
    "RETURN d.name AS Department, COUNT(a) AS ArticleCount\n",
    "ORDER BY ArticleCount DESC\n",
    "LIMIT 10\n",
    "\"\"\"\n",
    "\n",
    "conn.query(query)"
   ]
  },
  {
   "cell_type": "markdown",
   "id": "04cea3f2",
   "metadata": {},
   "source": [
    "### Findinng Similar Articles "
   ]
  },
  {
   "cell_type": "code",
   "execution_count": 35,
   "id": "730da940",
   "metadata": {},
   "outputs": [
    {
     "name": "stdout",
     "output_type": "stream",
     "text": [
      "[<Record Article1='V-NECK SS BASIC 3 PK' Article2='Frank Tank' Department='Light Basic Jersey' ProductGroup='Garment Upper body'>, <Record Article1='Taz Tee' Article2='Frank Tank' Department='Light Basic Jersey' ProductGroup='Garment Upper body'>, <Record Article1='R-NECK SS BASIC FIT' Article2='Frank Tank' Department='Light Basic Jersey' ProductGroup='Garment Upper body'>, <Record Article1='R-NECK SS SLIM FIT' Article2='Frank Tank' Department='Light Basic Jersey' ProductGroup='Garment Upper body'>, <Record Article1='V-NECK SS SLIM FIT' Article2='Frank Tank' Department='Light Basic Jersey' ProductGroup='Garment Upper body'>, <Record Article1='R-NECK LS SLIM FIT' Article2='Frank Tank' Department='Light Basic Jersey' ProductGroup='Garment Upper body'>, <Record Article1='VICTOR 3PK SLIM VN T-SHIRT' Article2='Frank Tank' Department='Light Basic Jersey' ProductGroup='Garment Upper body'>, <Record Article1='V-NECK SS SLIM 3 PK' Article2='Frank Tank' Department='Light Basic Jersey' ProductGroup='Garment Upper body'>, <Record Article1='AUSTIN LS HENLEY' Article2='Frank Tank' Department='Light Basic Jersey' ProductGroup='Garment Upper body'>, <Record Article1='REX SLIM LS T-SHIRT' Article2='Frank Tank' Department='Light Basic Jersey' ProductGroup='Garment Upper body'>, <Record Article1='WAFFLE CTN BASIC' Article2='Frank Tank' Department='Light Basic Jersey' ProductGroup='Garment Upper body'>, <Record Article1='R-NECK BASIC FIT FANCY' Article2='Frank Tank' Department='Light Basic Jersey' ProductGroup='Garment Upper body'>, <Record Article1='V-NECK SS BASIC FIT FANCY (1)' Article2='Frank Tank' Department='Light Basic Jersey' ProductGroup='Garment Upper body'>, <Record Article1='ROY SLIM RN T-SHIRT' Article2='Frank Tank' Department='Light Basic Jersey' ProductGroup='Garment Upper body'>, <Record Article1='VICTOR SLIM VN T-SHIRT' Article2='Frank Tank' Department='Light Basic Jersey' ProductGroup='Garment Upper body'>, <Record Article1='PETER POLO' Article2='Frank Tank' Department='Light Basic Jersey' ProductGroup='Garment Upper body'>, <Record Article1='ERIK REG TANK TOP' Article2='Frank Tank' Department='Light Basic Jersey' ProductGroup='Garment Upper body'>, <Record Article1='ERIK TANKTOP' Article2='Frank Tank' Department='Light Basic Jersey' ProductGroup='Garment Upper body'>, <Record Article1='R-NECK LS SLIM 3PK' Article2='Frank Tank' Department='Light Basic Jersey' ProductGroup='Garment Upper body'>, <Record Article1='ROY 3PK SLIM RN T-SHIRT' Article2='Frank Tank' Department='Light Basic Jersey' ProductGroup='Garment Upper body'>, <Record Article1='R-NECK SS SLIM 3 PK' Article2='Frank Tank' Department='Light Basic Jersey' ProductGroup='Garment Upper body'>, <Record Article1='3PK ROY SLIM RN T-SHIRT' Article2='Frank Tank' Department='Light Basic Jersey' ProductGroup='Garment Upper body'>, <Record Article1='KRAMER LS RAGLAN' Article2='Frank Tank' Department='Light Basic Jersey' ProductGroup='Garment Upper body'>, <Record Article1='Simon Retro Stripe Tee' Article2='Frank Tank' Department='Light Basic Jersey' ProductGroup='Garment Upper body'>, <Record Article1='R-NECK LS BASIC FIT' Article2='Frank Tank' Department='Light Basic Jersey' ProductGroup='Garment Upper body'>, <Record Article1='ROMAN REG LS T-SHIRT' Article2='Frank Tank' Department='Light Basic Jersey' ProductGroup='Garment Upper body'>, <Record Article1='TAZ LONG RN T-SHIRT' Article2='Frank Tank' Department='Light Basic Jersey' ProductGroup='Garment Upper body'>, <Record Article1='ISAAC RXD RN T-SHIRT' Article2='Frank Tank' Department='Light Basic Jersey' ProductGroup='Garment Upper body'>, <Record Article1='ISAAC TEE' Article2='Frank Tank' Department='Light Basic Jersey' ProductGroup='Garment Upper body'>, <Record Article1='PIPER POLO' Article2='Frank Tank' Department='Light Basic Jersey' ProductGroup='Garment Upper body'>, <Record Article1='ROY 5PK SLIM RN T-SHIRT' Article2='Frank Tank' Department='Light Basic Jersey' ProductGroup='Garment Upper body'>, <Record Article1='R-NECK SS SLIM 5 PK' Article2='Frank Tank' Department='Light Basic Jersey' ProductGroup='Garment Upper body'>, <Record Article1='Ronny R-Neck' Article2='Frank Tank' Department='Light Basic Jersey' ProductGroup='Garment Upper body'>, <Record Article1='DANNY LS TEE' Article2='Frank Tank' Department='Light Basic Jersey' ProductGroup='Garment Upper body'>, <Record Article1='ERIK 2PK REG TANK TOP' Article2='Frank Tank' Department='Light Basic Jersey' ProductGroup='Garment Upper body'>, <Record Article1='ERIK TANKTOP 2 PK' Article2='Frank Tank' Department='Light Basic Jersey' ProductGroup='Garment Upper body'>, <Record Article1='ERIK VEST 2 PK' Article2='Frank Tank' Department='Light Basic Jersey' ProductGroup='Garment Upper body'>, <Record Article1='GUSTAV SLEEVELESS TEE' Article2='Frank Tank' Department='Light Basic Jersey' ProductGroup='Garment Upper body'>, <Record Article1='Turner stretch polo' Article2='Frank Tank' Department='Light Basic Jersey' ProductGroup='Garment Upper body'>, <Record Article1='ANDERS LS POLO' Article2='Frank Tank' Department='Light Basic Jersey' ProductGroup='Garment Upper body'>, <Record Article1='2 PK BILL HENLEY' Article2='Frank Tank' Department='Light Basic Jersey' ProductGroup='Garment Upper body'>, <Record Article1='2PK BILL REG HENLEY T-SHIRT' Article2='Frank Tank' Department='Light Basic Jersey' ProductGroup='Garment Upper body'>, <Record Article1='BILL HENLEY 2 PK' Article2='Frank Tank' Department='Light Basic Jersey' ProductGroup='Garment Upper body'>, <Record Article1='R-NECK LS BASIC 3 PK' Article2='Frank Tank' Department='Light Basic Jersey' ProductGroup='Garment Upper body'>, <Record Article1='R-NECK SS MUSCLE 3 PK' Article2='Frank Tank' Department='Light Basic Jersey' ProductGroup='Garment Upper body'>, <Record Article1='RONNY REG RN T-SHIRT' Article2='Frank Tank' Department='Light Basic Jersey' ProductGroup='Garment Upper body'>, <Record Article1='RONNY R-NECK' Article2='Frank Tank' Department='Light Basic Jersey' ProductGroup='Garment Upper body'>, <Record Article1='Taz Cut Off' Article2='Frank Tank' Department='Light Basic Jersey' ProductGroup='Garment Upper body'>, <Record Article1='WAFFLE CTN BASIC STRIPE' Article2='Frank Tank' Department='Light Basic Jersey' ProductGroup='Garment Upper body'>, <Record Article1='V-NECK LS SLIM 3 PK' Article2='Frank Tank' Department='Light Basic Jersey' ProductGroup='Garment Upper body'>, <Record Article1='Baseball Tee' Article2='Frank Tank' Department='Light Basic Jersey' ProductGroup='Garment Upper body'>, <Record Article1='R-NECK SS MUSCLE FIT' Article2='Frank Tank' Department='Light Basic Jersey' ProductGroup='Garment Upper body'>, <Record Article1='Vernon V-neck' Article2='Frank Tank' Department='Light Basic Jersey' ProductGroup='Garment Upper body'>, <Record Article1='RYAN REG VN T-SHIRT' Article2='Frank Tank' Department='Light Basic Jersey' ProductGroup='Garment Upper body'>, <Record Article1='RYAN V-NECK' Article2='Frank Tank' Department='Light Basic Jersey' ProductGroup='Garment Upper body'>, <Record Article1='R-NECK LS BASIC FIT FANCY' Article2='Frank Tank' Department='Light Basic Jersey' ProductGroup='Garment Upper body'>, <Record Article1='SCOOP NECK SLIM FIT TEE' Article2='Frank Tank' Department='Light Basic Jersey' ProductGroup='Garment Upper body'>, <Record Article1='BROOKE PIQUE SLIM TEE' Article2='Frank Tank' Department='Light Basic Jersey' ProductGroup='Garment Upper body'>, <Record Article1='R-Neck SS Slim ONLINE' Article2='Frank Tank' Department='Light Basic Jersey' ProductGroup='Garment Upper body'>, <Record Article1='R-Neck SS Slim FIT OL' Article2='Frank Tank' Department='Light Basic Jersey' ProductGroup='Garment Upper body'>, <Record Article1='BILL SS HENLEY' Article2='Frank Tank' Department='Light Basic Jersey' ProductGroup='Garment Upper body'>, <Record Article1='BRADLEY SLIM LS HENLEY' Article2='Frank Tank' Department='Light Basic Jersey' ProductGroup='Garment Upper body'>, <Record Article1='MAC SLIM WAFFLE LS T-SHIRT' Article2='Frank Tank' Department='Light Basic Jersey' ProductGroup='Garment Upper body'>, <Record Article1='WAFFLE LS CTN SLIM FIT' Article2='Frank Tank' Department='Light Basic Jersey' ProductGroup='Garment Upper body'>, <Record Article1='THEO ROLL NECK' Article2='Frank Tank' Department='Light Basic Jersey' ProductGroup='Garment Upper body'>, <Record Article1='Peter Polo OL' Article2='Frank Tank' Department='Light Basic Jersey' ProductGroup='Garment Upper body'>, <Record Article1='RONNY FANCY' Article2='Frank Tank' Department='Light Basic Jersey' ProductGroup='Garment Upper body'>, <Record Article1='TAZ REG LONG LS T-SHIRT' Article2='Frank Tank' Department='Light Basic Jersey' ProductGroup='Garment Upper body'>, <Record Article1='TAZ LS' Article2='Frank Tank' Department='Light Basic Jersey' ProductGroup='Garment Upper body'>, <Record Article1='POLO SS SLIM COOLMAX' Article2='Frank Tank' Department='Light Basic Jersey' ProductGroup='Garment Upper body'>, <Record Article1='GEORDIE TANK' Article2='Frank Tank' Department='Light Basic Jersey' ProductGroup='Garment Upper body'>, <Record Article1='id' Article2='Frank Tank' Department='Light Basic Jersey' ProductGroup='Garment Upper body'>, <Record Article1='R-NECK SS BASIC COOLMAX' Article2='Frank Tank' Department='Light Basic Jersey' ProductGroup='Garment Upper body'>, <Record Article1='ERIK TANKTOP 5PK' Article2='Frank Tank' Department='Light Basic Jersey' ProductGroup='Garment Upper body'>, <Record Article1='RUSSELL RIB TANK 2PK' Article2='Frank Tank' Department='Light Basic Jersey' ProductGroup='Garment Upper body'>, <Record Article1='RUSSEL SLIM RIB TANK TOP' Article2='Frank Tank' Department='Light Basic Jersey' ProductGroup='Garment Upper body'>, <Record Article1='R-NECK LS BASIC 3PK' Article2='Frank Tank' Department='Light Basic Jersey' ProductGroup='Garment Upper body'>, <Record Article1='BRADLEY SLIM LS HENLEY 2PK' Article2='Frank Tank' Department='Light Basic Jersey' ProductGroup='Garment Upper body'>, <Record Article1='MALCOLM SHORTS' Article2='MARION-SHORTS' Department='Light Basic Jersey' ProductGroup='Garment Lower body'>, <Record Article1='MATTEO PIQUE SHORTS.' Article2='MARION-SHORTS' Department='Light Basic Jersey' ProductGroup='Garment Lower body'>, <Record Article1='Benny Shorts' Article2='MARION-SHORTS' Department='Light Basic Jersey' ProductGroup='Garment Lower body'>, <Record Article1='Sigge Shorts' Article2='MARION-SHORTS' Department='Light Basic Jersey' ProductGroup='Garment Lower body'>, <Record Article1='MARION SHORTS 2 PK' Article2='MARION-SHORTS' Department='Light Basic Jersey' ProductGroup='Garment Lower body'>, <Record Article1='MARION 2 PK' Article2='MARION-SHORTS' Department='Light Basic Jersey' ProductGroup='Garment Lower body'>, <Record Article1='Marion Shorts NEW' Article2='MARION-SHORTS' Department='Light Basic Jersey' ProductGroup='Garment Lower body'>, <Record Article1='MARION- SHORTS OL' Article2='MARION-SHORTS' Department='Light Basic Jersey' ProductGroup='Garment Lower body'>, <Record Article1='KNOWLES SHORTS' Article2='MARION-SHORTS' Department='Light Basic Jersey' ProductGroup='Garment Lower body'>, <Record Article1='SIGGE 2PK' Article2='MARION-SHORTS' Department='Light Basic Jersey' ProductGroup='Garment Lower body'>, <Record Article1='CALLUM CARGO POCKET SHORTS' Article2='MARION-SHORTS' Department='Light Basic Jersey' ProductGroup='Garment Lower body'>, <Record Article1='MALCOLM LONG SHORTS' Article2='MARION-SHORTS' Department='Light Basic Jersey' ProductGroup='Garment Lower body'>, <Record Article1='VINCE SHORTS' Article2='MARION-SHORTS' Department='Light Basic Jersey' ProductGroup='Garment Lower body'>, <Record Article1='Frank Tank' Article2='V-NECK SS BASIC 3 PK' Department='Light Basic Jersey' ProductGroup='Garment Upper body'>, <Record Article1='Taz Tee' Article2='V-NECK SS BASIC 3 PK' Department='Light Basic Jersey' ProductGroup='Garment Upper body'>, <Record Article1='R-NECK SS BASIC FIT' Article2='V-NECK SS BASIC 3 PK' Department='Light Basic Jersey' ProductGroup='Garment Upper body'>, <Record Article1='R-NECK SS SLIM FIT' Article2='V-NECK SS BASIC 3 PK' Department='Light Basic Jersey' ProductGroup='Garment Upper body'>, <Record Article1='V-NECK SS SLIM FIT' Article2='V-NECK SS BASIC 3 PK' Department='Light Basic Jersey' ProductGroup='Garment Upper body'>, <Record Article1='R-NECK LS SLIM FIT' Article2='V-NECK SS BASIC 3 PK' Department='Light Basic Jersey' ProductGroup='Garment Upper body'>, <Record Article1='VICTOR 3PK SLIM VN T-SHIRT' Article2='V-NECK SS BASIC 3 PK' Department='Light Basic Jersey' ProductGroup='Garment Upper body'>, <Record Article1='V-NECK SS SLIM 3 PK' Article2='V-NECK SS BASIC 3 PK' Department='Light Basic Jersey' ProductGroup='Garment Upper body'>, <Record Article1='AUSTIN LS HENLEY' Article2='V-NECK SS BASIC 3 PK' Department='Light Basic Jersey' ProductGroup='Garment Upper body'>]\n"
     ]
    }
   ],
   "source": [
    "query = \"\"\"MATCH (a1:ARTICLE)-[:DEPARTMENT_OF]->(d:DEPT),\n",
    "      (a2:ARTICLE)-[:DEPARTMENT_OF]->(d)\n",
    "WHERE a1 <> a2 AND a1.product_group_name = a2.product_group_name\n",
    "RETURN a1.title AS Article1, a2.title AS Article2, d.name AS Department, a1.product_group_name AS ProductGroup limit 100;\"\"\"\n",
    "\n",
    "print(conn.query(query))"
   ]
  },
  {
   "cell_type": "code",
   "execution_count": null,
   "id": "0d15d33a",
   "metadata": {},
   "outputs": [],
   "source": []
  }
 ],
 "metadata": {
  "kernelspec": {
   "display_name": "Python 3 (ipykernel)",
   "language": "python",
   "name": "python3"
  },
  "language_info": {
   "codemirror_mode": {
    "name": "ipython",
    "version": 3
   },
   "file_extension": ".py",
   "mimetype": "text/x-python",
   "name": "python",
   "nbconvert_exporter": "python",
   "pygments_lexer": "ipython3",
   "version": "3.9.13"
  }
 },
 "nbformat": 4,
 "nbformat_minor": 5
}
